{
 "cells": [
  {
   "cell_type": "markdown",
   "metadata": {},
   "source": [
    "# A Molecular Dynamics Simulation"
   ]
  },
  {
   "cell_type": "markdown",
   "metadata": {},
   "source": [
    "In this tutorial, we will develop a simple molecular dynamics simulation for a Lennard-Jones fluid in step-by-step fashion. Once the simulation framework has been constructed, we will then use it to sample for configurations in order to examine how the radial distribution function for LJ fluid changes with temperature.\n",
    "\n",
    "Recall the basic simulation scheme as described in class:\n",
    "\n",
    "<img src=\"images/simulation.png\" width=\"600px\"/>"
   ]
  },
  {
   "cell_type": "markdown",
   "metadata": {},
   "source": [
    "## 1. Importing packages\n",
    "\n",
    "Before beginning, let us import the packages that we will be working with.\n",
    "* [numpy](http://www.numpy.org/): NumPy is the fundamental package for scientific computing with Python.\n",
    "* [matplotlib.pyplot](https://matplotlib.org/): a Python 2D plotting library which produces publication quality figures.\n",
    "* [mpl_toolkits](https://matplotlib.org/mpl_toolkits/index.html): additional matplotlib toolkits. Mainly used in this notebook for 3D visualization.\n",
    "* [matplotlib.animation](https://matplotlib.org/api/animation_api.html): a matplotlib animation library"
   ]
  },
  {
   "cell_type": "code",
   "execution_count": null,
   "metadata": {},
   "outputs": [],
   "source": [
    "%matplotlib notebook\n",
    "import numpy as np\n",
    "import matplotlib.pyplot as plt\n",
    "import mpl_toolkits.mplot3d.axes3d as p3\n",
    "from matplotlib.animation import FuncAnimation"
   ]
  },
  {
   "cell_type": "markdown",
   "metadata": {},
   "source": [
    "## 2. Initialization\n",
    "\n",
    "Unless the potential is of a simple form, we cannot sample starting positions exactly. A couple possible approaches:\n",
    "* Start from some known configuration (e.g. from experiment)\n",
    "* Randomly position particles, but we run into the risk of overlaps\n",
    "* Initialize from lattice\n",
    "\n",
    "For the purposes of this exercise, we will start from an ordered lattice. Complete the function below so that it returns an (num_dims x num_particles) numpy array such that the array holds the initial xyz coordinates of the particles in our system."
   ]
  },
  {
   "cell_type": "code",
   "execution_count": null,
   "metadata": {},
   "outputs": [],
   "source": [
    "def get_positions(num_dims, num_cell, num_particles, box_length):\n",
    "    spacing = box_length / num_cell\n",
    "    positions_1D = np.linspace(spacing, box_length, num_cell)\n",
    "    if (num_dims == 3):\n",
    "        r = np.meshgrid(positions_1D, positions_1D, positions_1D)\n",
    "    elif (num_dims == 2):\n",
    "        r = np.meshgrid(positions_1D, positions_1D)\n",
    "    \n",
    "    r = np.reshape(r, (num_dims, num_particles))\n",
    "    # r = pbc(r, box_length)\n",
    "    return r\n",
    "\n",
    "\n",
    "r = get_positions(2, 5, 25, 10)\n",
    "fig1 = plt.figure()\n",
    "ax1 = fig1.add_subplot(111, aspect='equal', autoscale_on=False,\n",
    "                    xlim=(0, 12), ylim=(0, 12))\n",
    "pbcplot, = ax1.plot(r[0,:], r[1,:], 'bo', ms=5)"
   ]
  },
  {
   "cell_type": "markdown",
   "metadata": {},
   "source": [
    "Additionally, we must also initialize the momenta for each particle in the system. Recall that from lecture, each of $p_x$, $p_y$, and $p_z$ can be drawn from a normal distributions such that\n",
    "\n",
    "$$p_{avg} = 0, \\sigma_p = \\sqrt{mk_BT}$$\n",
    "\n",
    "In filling in the below function for initializing momenta, remember that in reduced units, $k_B = 1$"
   ]
  },
  {
   "cell_type": "code",
   "execution_count": null,
   "metadata": {},
   "outputs": [],
   "source": [
    "def get_momenta(num_dims, mass, temperature):\n",
    "    num_particles = mass.shape[1]\n",
    "    standard_dev = np.sqrt(temperature * mass) \n",
    "    mean = np.zeros(standard_dev.shape)\n",
    "    return np.random.normal(mean, standard_dev, (num_dims, num_particles))"
   ]
  },
  {
   "cell_type": "markdown",
   "metadata": {},
   "source": [
    "## 3. Interactions"
   ]
  },
  {
   "cell_type": "markdown",
   "metadata": {},
   "source": [
    "For our simulation we will employ periodic boundary conditions in conjunction with the minimum image convention\n",
    "\n",
    "<img src=\"images/pbc.png\" width=\"300px\"/>\n",
    "\n",
    "The below function, given an unwrapped position or distance vector, will return the vector when taking into consideration pbc and minimum image convention albeit in a \"hacky\" way. Effectively, the function is enforcing that\n",
    "\n",
    "$$\n",
    "pbc(r_{x}) = \n",
    "\\begin{cases}\n",
    "    r_x, & \\text{if } r_x < boxl/2\\\\\n",
    "    r_x - boxl, & \\text{otherwise}\n",
    "\\end{cases}\n",
    "$$\n",
    "\n",
    "for each component x, y, z of the vector. Note that the function as implemented implicitly assumes that the simulation box is centered on the origin."
   ]
  },
  {
   "cell_type": "code",
   "execution_count": null,
   "metadata": {},
   "outputs": [],
   "source": [
    "def pbc(vec, box_length):\n",
    "    iboxl = 1.0 / box_length\n",
    "    return vec - box_length * np.round(vec * iboxl)"
   ]
  },
  {
   "cell_type": "markdown",
   "metadata": {},
   "source": [
    "For this simulation, we will be employing the Lennard-Jones model to describe the particle interactions. Recall, that the Lennard-Jones potential is a pairwise potential of the following form:\n",
    "\n",
    "$$V(r) = 4\\epsilon \\left[ \\left( \\frac{\\sigma}{r} \\right)^{12} - \\left( \\frac{\\sigma}{r} \\right)^6\\right]$$\n",
    "\n",
    "Implement the function below such that it gives the LJ energy associated with two particles being $dist$ apart from one another (remember we are using reduced units!). Then verify that the potential looks as expected by running the code block"
   ]
  },
  {
   "cell_type": "code",
   "execution_count": null,
   "metadata": {},
   "outputs": [],
   "source": [
    "def LJ(dist):\n",
    "    dr2 = dist*dist\n",
    "    idr2 = 1/dr2\n",
    "    idr6 = idr2*idr2*idr2\n",
    "    dv = 4 * (idr6*idr6 - idr6)\n",
    "    df = 48 * dist * idr2 * (idr6*idr6 - 0.5*idr6)\n",
    "    return dv, df\n",
    "\n",
    "\n",
    "dists = np.linspace(0.5, 3.0, num=1000)\n",
    "energies, forces = LJ(dists)\n",
    "\n",
    "fig2 = plt.figure()\n",
    "ax2 = fig2.add_subplot(111, aspect='equal', autoscale_on=True,\n",
    "                      xlim=(0, 3.0), ylim=(-1.5, 1))\n",
    "ljplot = ax2.plot(dists, energies)"
   ]
  },
  {
   "cell_type": "markdown",
   "metadata": {},
   "source": [
    "Each iteration of the molecular dynamics simulation we will need to calculate each pairwise interaction in our system. Note that the function is vectorized for speed and makes use of Newton's 3rd law to avoid redundant force calculations."
   ]
  },
  {
   "cell_type": "code",
   "execution_count": null,
   "metadata": {},
   "outputs": [],
   "source": [
    "# Can speed up by vectorizing over all particles\n",
    "def interactions(r, boxl):\n",
    "    num_dims, num_particles = r.shape\n",
    "    forces = np.zeros((num_dims, num_particles))\n",
    "    potential = 0\n",
    "    for pA in range(num_particles-1):\n",
    "        rA = np.reshape(r[:, pA], (num_dims, 1))\n",
    "        rB = r[:, pA+1:]\n",
    "        \n",
    "        dr = pbc(rA - rB, boxl)\n",
    "        \n",
    "        dist = np.linalg.norm(dr, axis=0)\n",
    "        \n",
    "        dv, df = LJ(dist)\n",
    "        \n",
    "        potential = potential + np.sum(dv)\n",
    "        \n",
    "        forces[:, pA] = forces[:, pA] + np.sum(dr*df/dist, axis=1)\n",
    "        forces[:, pA+1:] = forces[:,pA+1:] - dr*df/dist\n",
    "                \n",
    "    return potential, forces"
   ]
  },
  {
   "cell_type": "markdown",
   "metadata": {},
   "source": [
    "## 4. Main simulation loop"
   ]
  },
  {
   "cell_type": "markdown",
   "metadata": {},
   "source": [
    "Below, we have the main simulation update function where we put everything together. To run a molecular dynamics simulation, we need to call the update() function in a loop. Note that we are running an NVT simulation and have couple a thermostat to the system."
   ]
  },
  {
   "cell_type": "code",
   "execution_count": null,
   "metadata": {},
   "outputs": [],
   "source": [
    "def update(frame, params, constants, file, visualize, ms):\n",
    "    \"simulation/animation update loop\"\n",
    "    global rect, ax, fig   # Probably should pass as args and not ref globals\n",
    "    num_dims, temperature, dt, gamma, boxl, potE_0, kinE_0 = constants\n",
    "    \n",
    "    params['p']= params['p']+ 0.5*dt*params['forces']\n",
    "    velocities = params['p']/ params['mass']\n",
    "    \n",
    "    # Evolve positions\n",
    "    dr = dt*velocities\n",
    "    params['r_noPBC'][:, :, frame+1] = params['r_noPBC'][:, :, frame] + dr\n",
    "    params['r'] = pbc(params['r'] + dr, boxl)\n",
    "    \n",
    "    # Get potential energy and forces for new positions\n",
    "    pe, params['forces'] = interactions(params['r'] , boxl)\n",
    "    \n",
    "    # Evolve momenta by dt/2\n",
    "    params['p']= params['p']+ 0.5*dt*params['forces']\n",
    "    \n",
    "    # Thermostat the system: Anderson Thermostat\n",
    "    if (np.random.uniform() < gamma*dt):\n",
    "        params['p']= get_momenta(num_dims, params['mass'], temperature)\n",
    "        \n",
    "    # Print system properties\n",
    "    ke = np.sum(np.square(params['p']) / (2 * params['mass']))\n",
    "    tote = ke + pe\n",
    "    T_obs = 2 * ke / (num_dims * num_particles)\n",
    "    \n",
    "    \n",
    "    if frame % 10 == 0:\n",
    "        paramstr = (\"Time: %f, T: %3.4f, E: %10.4f, PE: %10.4f, KE: %10.4f\\n\" % \n",
    "              (frame*dt, T_obs, tote - (potE_0+kinE_0), pe-potE_0, ke-kinE_0))\n",
    "        file.write(paramstr)\n",
    "        \n",
    "        \n",
    "    if visualize:\n",
    "        # update pieces of the animation\n",
    "        if num_dims == 2:\n",
    "            particles.set_data(params['r'][0,:], params['r'][1,:])\n",
    "        elif num_dims == 3:\n",
    "            particles.set_data(params['r'][0,:], params['r'][1,:])\n",
    "            particles.set_3d_properties(params['r'][2:])\n",
    "        particles.set_markersize(ms)\n",
    "        return particles\n"
   ]
  },
  {
   "cell_type": "markdown",
   "metadata": {},
   "source": [
    "## 5. Running the simulation"
   ]
  },
  {
   "cell_type": "markdown",
   "metadata": {},
   "source": [
    "We need to specify certain parameters for our simulation including the density temperature of the system we want to simulate"
   ]
  },
  {
   "cell_type": "code",
   "execution_count": null,
   "metadata": {},
   "outputs": [],
   "source": [
    "params = {}\n",
    "\n",
    "# System parameters\n",
    "# num_dims    = 2\n",
    "# temperature = 35.0\n",
    "# dt          = 0.0010\n",
    "# gamma       = 100.0\n",
    "# num_steps   = 2000\n",
    "# ncell       = 7\n",
    "# density     = 0.5\n",
    "# visualize   = True\n",
    "# ms          = 15\n",
    "\n",
    "num_dims    = 3\n",
    "temperature = 35.0\n",
    "dt          = 0.0010\n",
    "gamma       = 100.0\n",
    "num_steps   = 2000\n",
    "ncell       = 5\n",
    "density     = 0.5\n",
    "visualize   = True\n",
    "ms          = 10"
   ]
  },
  {
   "cell_type": "markdown",
   "metadata": {},
   "source": [
    "Some initialization are performed below"
   ]
  },
  {
   "cell_type": "code",
   "execution_count": null,
   "metadata": {},
   "outputs": [],
   "source": [
    "# Compute box length from the density and number of particles\n",
    "num_particles   = ncell**num_dims\n",
    "volume          = num_particles / density\n",
    "boxl            = volume**(1/num_dims)\n",
    "\n",
    "# Initialize the mass for each particle\n",
    "params['mass'] = np.ones((1, num_particles))\n",
    "\n",
    "# Get initial positions of the particles, start on a square/cubic grid\n",
    "params['r'] = get_positions(num_dims,ncell,num_particles,boxl);\n",
    "params['r_noPBC']          = np.zeros((num_dims, num_particles, num_steps))\n",
    "params['r_noPBC'][:, :, 0] = params['r']\n",
    "\n",
    "# Get the initial momenta of the particles: start from the Boltzmann ditribution\n",
    "params['p'] = get_momenta(num_dims, params['mass'], temperature)\n",
    "\n",
    "# Calculate the initial potential energy and forces\n",
    "potE, params['forces'] = interactions(params['r'], boxl)\n",
    "\n",
    "potE_0 = potE\n",
    "kinE_0 = np.sum(np.square(params['p'] / (2 * params['mass'])))"
   ]
  },
  {
   "cell_type": "markdown",
   "metadata": {},
   "source": [
    "Here we set up the visualization environment and then run the molecular dynamics animation. Note that each frame of the animation is produced on-the-fly"
   ]
  },
  {
   "cell_type": "code",
   "execution_count": null,
   "metadata": {
    "scrolled": false
   },
   "outputs": [],
   "source": [
    "def init():\n",
    "    \"\"\"initialize animation\"\"\"\n",
    "    if num_dims == 2:\n",
    "        particles.set_data(params['r'][0,:], params['r'][1,:])\n",
    "    elif num_dims == 3:\n",
    "        particles.set_data(params['r'][0,:], params['r'][1,:])\n",
    "        particles.set_3d_properties(params['r'][2:])\n",
    "    return particles\n",
    "\n",
    "constants = num_dims, temperature, dt, gamma, boxl, potE_0, kinE_0\n",
    "\n",
    "# set up figure and animation\n",
    "fig = plt.figure()\n",
    "if num_dims == 2:\n",
    "    ax = fig.add_subplot(111, aspect='equal', autoscale_on=False,\n",
    "                         xlim=(-0.5*boxl, 0.5*boxl), ylim=(-0.5*boxl, 0.5*boxl))\n",
    "    particles, = ax.plot([], [], 'bo', ms=ms)\n",
    "elif num_dims == 3:\n",
    "    ax = p3.Axes3D(fig)\n",
    "    ax.set_xlim3d([-0.5*boxl, 0.5*boxl])\n",
    "    ax.set_ylim3d([-0.5*boxl, 0.5*boxl])\n",
    "    ax.set_zlim3d([-0.5*boxl, 0.5*boxl])\n",
    "    particles, = ax.plot([], [], [], 'ro', ms=ms)\n",
    "    \n",
    "\n",
    "# The animation loop doesn't play nice with I/O it seems. Be sure to\n",
    "# run the next block to close the file after the simulation finishes.\n",
    "# There's probably a better way but it might take some digging.\n",
    "fname = 'simulation_params.out'\n",
    "f = open(fname, 'w+')\n",
    "\n",
    "# Below line runs simulation and animation. Alternatively if you want\n",
    "# to just run simulation, then you can loop the update function.\n",
    "anim = FuncAnimation(fig, update, frames=num_steps-1, \n",
    "                     interval=1, blit=True, init_func=init, \n",
    "                     repeat=False, fargs=(params, constants, f, visualize, ms))"
   ]
  },
  {
   "cell_type": "markdown",
   "metadata": {},
   "source": [
    "Don't forget to run this after your simulation finishes to clean up some loose ends (in this case, an open file handle)"
   ]
  },
  {
   "cell_type": "code",
   "execution_count": null,
   "metadata": {},
   "outputs": [],
   "source": [
    "f.close()"
   ]
  },
  {
   "cell_type": "code",
   "execution_count": null,
   "metadata": {},
   "outputs": [],
   "source": []
  }
 ],
 "metadata": {
  "kernelspec": {
   "display_name": "Python 3",
   "language": "python",
   "name": "python3"
  },
  "language_info": {
   "codemirror_mode": {
    "name": "ipython",
    "version": 3
   },
   "file_extension": ".py",
   "mimetype": "text/x-python",
   "name": "python",
   "nbconvert_exporter": "python",
   "pygments_lexer": "ipython3",
   "version": "3.7.0"
  }
 },
 "nbformat": 4,
 "nbformat_minor": 2
}
